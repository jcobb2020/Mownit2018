{
 "cells": [
  {
   "cell_type": "code",
   "execution_count": 10,
   "metadata": {},
   "outputs": [],
   "source": [
    "using QuadGK\n",
    "using Polynomials"
   ]
  },
  {
   "cell_type": "markdown",
   "metadata": {},
   "source": [
    "<a href=\"https://www.icsr.agh.edu.pl/~mownit/pdf/06_kwadratury.pdf\"> Wykład </a>\n",
    "\n",
    "Kwadratury Gaussa bazują na tzw. odciętych punktów Gaussa $x_{i}$ oraz współczynnikach $a_{i}$\n"
   ]
  },
  {
   "cell_type": "code",
   "execution_count": 11,
   "metadata": {},
   "outputs": [
    {
     "data": {
      "text/plain": [
       "([-0.949108, -0.741531, -0.405845, 0.0, 0.405845, 0.741531, 0.949108], [0.129485, 0.279705, 0.38183, 0.417959, 0.38183, 0.279705, 0.129485])"
      ]
     },
     "execution_count": 11,
     "metadata": {},
     "output_type": "execute_result"
    }
   ],
   "source": [
    "# funkcja obliczająca odcięte punktów Gaussa oraz ich współczynniki \n",
    "(xp,a)=gauss(Float64,7)\n"
   ]
  },
  {
   "cell_type": "markdown",
   "metadata": {},
   "source": [
    "Podstawowe użycie w/w danych: \n",
    "aby policzyć $\\int_{-1}^{1} f dx$  używamy odciętych punktów wraz z wagami wg wzoru \n",
    "$\\sum_{i=1}^{n}{a_{i}f(x_{i})}$\n"
   ]
  },
  {
   "cell_type": "code",
   "execution_count": 12,
   "metadata": {},
   "outputs": [
    {
     "data": {
      "text/plain": [
       "0.6666666666666669"
      ]
     },
     "execution_count": 12,
     "metadata": {},
     "output_type": "execute_result"
    }
   ],
   "source": [
    "f(x)=x^2\n",
    "sum(a .* f.(xp)) "
   ]
  },
  {
   "cell_type": "markdown",
   "metadata": {},
   "source": [
    "### Zadanie 1\n",
    "- zaimplentuj wielomiany Legendre'a, narysuj ich wykresy w przedziale (-1,1). \n",
    "- sprawdz, ze ich zera sa odcietymi punktów Gaussa. Test wykonaj dla wielomianow od 2 do 4 stopnia\n",
    "- podaj związek tego faktu z podstawowym twierdzeniem kwadratur Gaussa (z wykładu)"
   ]
  },
  {
   "cell_type": "markdown",
   "metadata": {},
   "source": [
    "### Zadanie 2\n",
    "- Napisz funkcję, która dla podanej liczby punktów Gaussa $k$ oraz funkcji $f$  policzy $\\int_{-1}^{1} f dx$\n",
    "metodą używającą funkcji:\n",
    "```julia\n",
    "gauss(k)\n",
    "```\n",
    "oraz sumy \n",
    "```julia\n",
    "sum(a .* f.(xp)) \n",
    "```\n",
    "- przetestuj dla wielomianów coraz większych stopni\n",
    "- sprawdz kiedy przestaje być dokładna, \n",
    "- podaj związek z twierdzeniem o  stopniu dokładności kwadratury Gaussa "
   ]
  },
  {
   "cell_type": "markdown",
   "metadata": {},
   "source": [
    "### Zadanie 3\n",
    " \n",
    "Skorzystaj z rozwiązania zad 2 do napisania funkcji \n",
    "liczącej  całki w dowolnym przedziale $\\int_{a}^{b} f(x) dx$ \n",
    "\n",
    "dokonując normalizacji  do $\\int_{-1}^{1} F(z) dz$ \n",
    "\n",
    "podstawiając:\n",
    "\n",
    "$x=\\frac{b+a}{2}+ \\frac{b-a}{2} z $ oraz \n",
    "\n",
    "$dx =\\frac{b-a}{2} dz $\n",
    "\n",
    "Przetestuj działanie na kilku przykładach i sprawdź z wynikami otrzymanymi analitycznie.\n"
   ]
  },
  {
   "cell_type": "markdown",
   "metadata": {},
   "source": [
    "### Zadanie 4\n",
    "Głowną funkcją pakietu QuadGK jest adaptacyjna funkcja <a href=\"https://juliamath.github.io/QuadGK.jl/stable/#QuadGK.quadgk\"> guadgk</a> używająca całkowania  Gauss-Kronroda\n",
    "\n",
    "- użyj tej funkcji do policzenia  całki dla przykładowego wielomianu.\n",
    "- funkcja ta ma możliwość liczenia również całek do nieskończoności\n",
    " Policz całkę od minus do plus nieskonczonosci \n",
    " standardowego rozkładu normalnego Gaussa\n",
    " podac $ \\frac{1}{\\sqrt{2\\pi}}exp(\\frac{-x^2}{2})$"
   ]
  },
  {
   "cell_type": "markdown",
   "metadata": {},
   "source": [
    "### Zadanie 5\n",
    "Napisz własną funkcję całkującą metodą prostokątów albo trapezów. Narysuj wykres funkcji błędu\n",
    "w stosunku do wyniku otrzymanego analitycznie \n",
    "w zaleznosci od ilosci potrzebnych przedziałów  dla przykładowego wielomianu."
   ]
  }
 ],
 "metadata": {
  "kernelspec": {
   "display_name": "Julia 1.0.0",
   "language": "julia",
   "name": "julia-1.0"
  },
  "language_info": {
   "file_extension": ".jl",
   "mimetype": "application/julia",
   "name": "julia",
   "version": "1.0.0"
  }
 },
 "nbformat": 4,
 "nbformat_minor": 2
}
